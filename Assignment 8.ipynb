{
 "cells": [
  {
   "cell_type": "code",
   "execution_count": 11,
   "metadata": {},
   "outputs": [
    {
     "name": "stdout",
     "output_type": "stream",
     "text": [
      "rows of first matrix2\n",
      "columns of first matrix2\n",
      "1\n",
      "2\n",
      "3\n",
      "4\n",
      "rows of second matrix2\n",
      "columns of second matrix2\n",
      "5\n",
      "6\n",
      "7\n",
      "8\n",
      "sum of matrix [[6, 8], [10, 12]]\n"
     ]
    }
   ],
   "source": [
    "#program to add two matrices\n",
    "r=int(input(\"rows of first matrix\"))\n",
    "c=int(input(\"columns of first matrix\"))\n",
    "mat = [[int(input()) for x in range (c)] for y in range(r)]\n",
    "result=[[0 for i in range(r)] for j in range(c)]\n",
    "r1=int(input(\"rows of second matrix\"))\n",
    "c1=int(input(\"columns of second matrix\"))    \n",
    "mat1 = [[int(input()) for x in range (c1)] for y in range(r1)]  \n",
    "if r!=r1 and c!=c1:\n",
    "    print(\"addition is not possible\")\n",
    "else:    \n",
    "    for i in range(r):\n",
    "        for j in range(c):\n",
    "            result[i][j]=mat[i][j]+mat1[i][j]\n",
    "    print(\"sum of matrix\",result)            \n",
    "        "
   ]
  },
  {
   "cell_type": "code",
   "execution_count": 15,
   "metadata": {},
   "outputs": [
    {
     "name": "stdout",
     "output_type": "stream",
     "text": [
      "rows of first matrix1\n",
      "columns of first matrix2\n",
      "2\n",
      "2\n",
      "rows of second matrix1\n",
      "columns of second matrix2\n",
      "2\n",
      "2\n",
      "multiplication is not possible\n"
     ]
    }
   ],
   "source": [
    "#program to multiply matrices\n",
    "r=int(input(\"rows of first matrix\"))\n",
    "c=int(input(\"columns of first matrix\"))\n",
    "mat = [[int(input()) for x in range (c)] for y in range(r)]\n",
    "result=[[0 for i in range(r)] for j in range(c)]\n",
    "r1=int(input(\"rows of second matrix\"))\n",
    "c1=int(input(\"columns of second matrix\"))\n",
    "mat1 = [[int(input()) for x in range (c1)] for y in range(r1)]  \n",
    "if c!=r1:\n",
    "    print(\"multiplication is not possible\")\n",
    "else:\n",
    "    for i in range(r):\n",
    "        for j in range(c1):\n",
    "            for k in range(c):\n",
    "                result[i][j]=result[i][j]+mat[i][k]*mat1[k][j]\n",
    "    print(\"multiplication of matrices\",result)\n"
   ]
  },
  {
   "cell_type": "code",
   "execution_count": 17,
   "metadata": {},
   "outputs": [
    {
     "name": "stdout",
     "output_type": "stream",
     "text": [
      "rows of first matrix2\n",
      "columns of first matrix2\n",
      "1\n",
      "2\n",
      "3\n",
      "4\n",
      "transpose of a matrix [[1, 3], [2, 4]]\n"
     ]
    }
   ],
   "source": [
    "#program to find transpose of a matrix\n",
    "r=int(input(\"rows of first matrix\"))\n",
    "c=int(input(\"columns of first matrix\"))\n",
    "mat = [[int(input()) for x in range (c)] for y in range(r)]\n",
    "result=[[0 for i in range(r)] for j in range(c)]\n",
    "for i in range(r):\n",
    "    for j in range(c):\n",
    "       result[i][j]=mat[j][i]\n",
    "print(\"transpose of a matrix\",result)       \n",
    "        \n"
   ]
  },
  {
   "cell_type": "code",
   "execution_count": 24,
   "metadata": {},
   "outputs": [
    {
     "name": "stdout",
     "output_type": "stream",
     "text": [
      "enter a stringhi hello welcome\n",
      "sorted order of given words is\n",
      "hello\n",
      "hi\n",
      "welcome\n"
     ]
    }
   ],
   "source": [
    "#program to sort words \n",
    "word=input(\"enter a string\")\n",
    "words=word.split()\n",
    "print(\"sorted order of given words is\")\n",
    "for i in sorted(words):\n",
    "    print(i)"
   ]
  },
  {
   "cell_type": "code",
   "execution_count": 27,
   "metadata": {},
   "outputs": [
    {
     "name": "stdout",
     "output_type": "stream",
     "text": [
      "enter a stringGfg, is best : for ! Geeks ;\n",
      "after removing punctuations Gfg is best  for  Geeks \n"
     ]
    }
   ],
   "source": [
    "#program to removing punctuations from a string\n",
    "word=input(\"enter a string\")\n",
    "punc = '''!()-[]{};:'\"\\,<>./?@#$%^&*_~'''\n",
    "for i in word:\n",
    "    if i in punc:\n",
    "        word=word.replace(i,\"\")\n",
    "print(\"after removing punctuations\",word)        "
   ]
  },
  {
   "cell_type": "code",
   "execution_count": null,
   "metadata": {},
   "outputs": [],
   "source": []
  }
 ],
 "metadata": {
  "kernelspec": {
   "display_name": "Python 3",
   "language": "python",
   "name": "python3"
  },
  "language_info": {
   "codemirror_mode": {
    "name": "ipython",
    "version": 3
   },
   "file_extension": ".py",
   "mimetype": "text/x-python",
   "name": "python",
   "nbconvert_exporter": "python",
   "pygments_lexer": "ipython3",
   "version": "3.8.5"
  }
 },
 "nbformat": 4,
 "nbformat_minor": 4
}
