{
 "cells": [
  {
   "cell_type": "code",
   "execution_count": 3,
   "metadata": {},
   "outputs": [
    {
     "name": "stdout",
     "output_type": "stream",
     "text": [
      "enter a number3\n",
      "factorial of 3 is 6\n"
     ]
    }
   ],
   "source": [
    "#program to find factorial of a number\n",
    "n=int(input(\"enter a number\"))\n",
    "f=1\n",
    "for i in range(1,n+1):\n",
    "    f=f*i\n",
    "print(\"factorial of {} is {}\".format(n,f))    "
   ]
  },
  {
   "cell_type": "code",
   "execution_count": 5,
   "metadata": {},
   "outputs": [
    {
     "name": "stdout",
     "output_type": "stream",
     "text": [
      "enter a number14\n",
      "14 * 1 = 14\n",
      "14 * 2 = 28\n",
      "14 * 3 = 42\n",
      "14 * 4 = 56\n",
      "14 * 5 = 70\n",
      "14 * 6 = 84\n",
      "14 * 7 = 98\n",
      "14 * 8 = 112\n",
      "14 * 9 = 126\n",
      "14 * 10 = 140\n"
     ]
    }
   ],
   "source": [
    "#program to display multiplication table\n",
    "n=int(input(\"enter a number\"))\n",
    "for i in range(1,11):\n",
    "    print(n,\"*\",i,\"=\",(n*i))"
   ]
  },
  {
   "cell_type": "code",
   "execution_count": 10,
   "metadata": {},
   "outputs": [
    {
     "name": "stdout",
     "output_type": "stream",
     "text": [
      "enter a number10\n",
      "fibonacci sequence 10 is\n",
      "0\n",
      "1\n",
      "1\n",
      "2\n",
      "3\n",
      "5\n",
      "8\n",
      "13\n",
      "21\n",
      "34\n"
     ]
    }
   ],
   "source": [
    "#program to print fibonacci sequence\n",
    "n=int(input(\"enter a number\"))\n",
    "a=0\n",
    "b=1\n",
    "if n==1:\n",
    "    print(\"fibonacci sequence upto {} is {}\".format(n,a))\n",
    "elif n==2:\n",
    "    print(\"fibonacci sequence upto {} is\".format(n))\n",
    "    print(a)\n",
    "    print(b)\n",
    "else:\n",
    "    print(\"fibonacci sequence {} is\".format(n))\n",
    "    print(a)\n",
    "    print(b)\n",
    "    for i in range(3,n+1):\n",
    "        c=a+b\n",
    "        print(c)\n",
    "        a=b\n",
    "        b=c\n",
    "    \n",
    "    "
   ]
  },
  {
   "cell_type": "code",
   "execution_count": 15,
   "metadata": {},
   "outputs": [
    {
     "name": "stdout",
     "output_type": "stream",
     "text": [
      "enter a value153\n",
      "Armstrong number\n"
     ]
    }
   ],
   "source": [
    "#program to check armstrong number or not\n",
    "n=int(input(\"enter a value\"))\n",
    "sum1=0\n",
    "t=n\n",
    "while(t != 0):\n",
    "    d=t%10\n",
    "    sum1=sum1+d**3\n",
    "    t=t//10\n",
    "if(sum1==n):\n",
    "    print(\"Armstrong number\")\n",
    "else:\n",
    "    print(\"not an armstrong number\")\n",
    "    "
   ]
  },
  {
   "cell_type": "code",
   "execution_count": 20,
   "metadata": {},
   "outputs": [
    {
     "name": "stdout",
     "output_type": "stream",
     "text": [
      "enter lower limit0\n",
      "enter upper limit1\n",
      "armstrong numbers in an interval are\n",
      "0\n",
      "1\n"
     ]
    }
   ],
   "source": [
    "#program to check armstrong number in an interval\n",
    "lower=int(input(\"enter lower limit\"))\n",
    "upper=int(input(\"enter upper limit\"))\n",
    "print(\"armstrong numbers in an interval are\")\n",
    "for i in range(lower,upper+1):\n",
    "    n=i\n",
    "    sum1=0\n",
    "    t=n\n",
    "    while(t != 0):\n",
    "        d=t%10\n",
    "        sum1=sum1+d**3\n",
    "        t=t//10\n",
    "    if(sum1==n):\n",
    "        print(n)"
   ]
  },
  {
   "cell_type": "code",
   "execution_count": 26,
   "metadata": {},
   "outputs": [
    {
     "name": "stdout",
     "output_type": "stream",
     "text": [
      "enter a number3\n",
      "the sum of natural number 3 is 6\n"
     ]
    }
   ],
   "source": [
    "#program to find sum of natural numbers\n",
    "n=int(input(\"enter a number\"))\n",
    "if n < 0:\n",
    "    print(\"please enter a positive number\")\n",
    "else:    \n",
    "    sum1=0\n",
    "    for i in range(1,n+1):\n",
    "        sum1=sum1+i\n",
    "    print(\"the sum of natural number {} is {}\".format(n,sum1))    "
   ]
  },
  {
   "cell_type": "code",
   "execution_count": null,
   "metadata": {},
   "outputs": [],
   "source": []
  }
 ],
 "metadata": {
  "kernelspec": {
   "display_name": "Python 3",
   "language": "python",
   "name": "python3"
  },
  "language_info": {
   "codemirror_mode": {
    "name": "ipython",
    "version": 3
   },
   "file_extension": ".py",
   "mimetype": "text/x-python",
   "name": "python",
   "nbconvert_exporter": "python",
   "pygments_lexer": "ipython3",
   "version": "3.8.5"
  }
 },
 "nbformat": 4,
 "nbformat_minor": 4
}
