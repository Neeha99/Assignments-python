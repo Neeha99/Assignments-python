{
 "cells": [
  {
   "cell_type": "code",
   "execution_count": 1,
   "metadata": {},
   "outputs": [
    {
     "name": "stdout",
     "output_type": "stream",
     "text": [
      "enter a value4\n",
      "enter a value8\n",
      "lcm of given numbers 4,8 is 8\n"
     ]
    }
   ],
   "source": [
    "#program to find LCM\n",
    "def gcd(a,b):\n",
    "    if a==0:\n",
    "        return b\n",
    "    if b==0:\n",
    "        return a\n",
    "    else:\n",
    "        return gcd(b,a%b)\n",
    "    \n",
    "a=int(input(\"enter a value\"))\n",
    "b=int(input(\"enter a value\"))\n",
    "lcm=(a*b)//gcd(a,b)\n",
    "print(\"lcm of given numbers {},{} is {}\".format(a,b,lcm))\n"
   ]
  },
  {
   "cell_type": "code",
   "execution_count": 2,
   "metadata": {},
   "outputs": [
    {
     "name": "stdout",
     "output_type": "stream",
     "text": [
      "enter a value12\n",
      "enter a value6\n",
      "hcf of given numbers 12,6 is 6\n"
     ]
    }
   ],
   "source": [
    "#program to find gcd\n",
    "def gcd(a,b):\n",
    "    if a==0:\n",
    "        return b\n",
    "    if b==0:\n",
    "        return a\n",
    "    else:\n",
    "        return gcd(b,a%b)\n",
    "    \n",
    "a=int(input(\"enter a value\"))\n",
    "b=int(input(\"enter a value\"))\n",
    "hcf=gcd(a,b)\n",
    "print(\"hcf of given numbers {},{} is {}\".format(a,b,hcf))"
   ]
  },
  {
   "cell_type": "code",
   "execution_count": 3,
   "metadata": {},
   "outputs": [
    {
     "name": "stdout",
     "output_type": "stream",
     "text": [
      "enter a value15\n",
      "decimal to binary 0b1111\n",
      "decimal to octal 0o17\n",
      "decimal to hexadecimal 0xf\n"
     ]
    }
   ],
   "source": [
    "#program to convert decimal to binary,octal and hexadecimal\n",
    "n=int(input(\"enter a value\"))\n",
    "print(\"decimal to binary\",bin(n))\n",
    "print(\"decimal to octal\",oct(n))\n",
    "print(\"decimal to hexadecimal\",hex(n))\n",
    "\n"
   ]
  },
  {
   "cell_type": "code",
   "execution_count": 4,
   "metadata": {},
   "outputs": [
    {
     "name": "stdout",
     "output_type": "stream",
     "text": [
      "enter a characterA\n",
      "ascii value of A is 65\n"
     ]
    }
   ],
   "source": [
    "#program to find ascii value of a character\n",
    "c=input(\"enter a character\")\n",
    "print(\"ascii value of {} is {}\".format(c,ord(c)))"
   ]
  },
  {
   "cell_type": "code",
   "execution_count": 3,
   "metadata": {},
   "outputs": [
    {
     "name": "stdout",
     "output_type": "stream",
     "text": [
      "Select the following options\n",
      "1.Add\n",
      "2.Subtract\n",
      "3.Multiply\n",
      "4.Divide\n",
      "choose an option1\n",
      "Enter first number: 10\n",
      "Enter second number: 20\n",
      "10 + 20 = 30\n",
      "Let's do next calculation? (yes/no): yes\n",
      "choose an option2\n",
      "Enter first number: 40\n",
      "Enter second number: 30\n",
      "40 - 30 = 10\n",
      "Let's do next calculation? (yes/no): 3\n",
      "choose an option4\n",
      "Enter first number: 5\n",
      "Enter second number: 2\n",
      "5 / 2 = 2\n",
      "Let's do next calculation? (yes/no): yes\n",
      "choose an option3\n",
      "Enter first number: 5\n",
      "Enter second number: 4\n",
      "5 * 4 = 20\n",
      "Let's do next calculation? (yes/no): no\n"
     ]
    }
   ],
   "source": [
    "#program to make a simple calculator\n",
    "def add(x, y):\n",
    "    return x + y\n",
    "def subtract(x, y):\n",
    "    return x - y\n",
    "def multiply(x, y):\n",
    "    return x * y\n",
    "def divide(x, y):\n",
    "    return x // y\n",
    "\n",
    "print(\"Select the following options\")\n",
    "print(\"1.Add\")\n",
    "print(\"2.Subtract\")\n",
    "print(\"3.Multiply\")\n",
    "print(\"4.Divide\")\n",
    "while True:\n",
    "    opt=input(\"choose an option\")\n",
    "    if opt in ('1', '2', '3', '4'):\n",
    "        num1 = int(input(\"Enter first number: \"))\n",
    "        num2 = int(input(\"Enter second number: \"))\n",
    "        if opt == '1':\n",
    "            print(num1, \"+\", num2, \"=\", add(num1, num2))\n",
    "        elif opt == '2':\n",
    "            print(num1, \"-\", num2, \"=\", subtract(num1, num2))\n",
    "        elif opt == '3':\n",
    "            print(num1, \"*\", num2, \"=\", multiply(num1, num2))\n",
    "        elif opt == '4':\n",
    "            print(num1, \"/\", num2, \"=\", divide(num1, num2))\n",
    "        selection = input(\"Let's do next calculation? (yes/no): \")\n",
    "        if selection == \"no\":\n",
    "            break\n",
    "    else:\n",
    "        print(\"Please select the correct option\")\n",
    "    \n",
    "        "
   ]
  },
  {
   "cell_type": "code",
   "execution_count": null,
   "metadata": {},
   "outputs": [],
   "source": []
  }
 ],
 "metadata": {
  "kernelspec": {
   "display_name": "Python 3",
   "language": "python",
   "name": "python3"
  },
  "language_info": {
   "codemirror_mode": {
    "name": "ipython",
    "version": 3
   },
   "file_extension": ".py",
   "mimetype": "text/x-python",
   "name": "python",
   "nbconvert_exporter": "python",
   "pygments_lexer": "ipython3",
   "version": "3.8.5"
  }
 },
 "nbformat": 4,
 "nbformat_minor": 4
}
