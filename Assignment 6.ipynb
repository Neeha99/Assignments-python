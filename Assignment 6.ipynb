{
 "cells": [
  {
   "cell_type": "code",
   "execution_count": 18,
   "metadata": {},
   "outputs": [
    {
     "name": "stdout",
     "output_type": "stream",
     "text": [
      "enter a number5\n",
      "fibonacci sequence\n",
      "0\n",
      "1\n",
      "1\n",
      "2\n",
      "3\n"
     ]
    }
   ],
   "source": [
    "#fibonacci sequence using recursion\n",
    "def fibo(n):\n",
    "    if n<=1:\n",
    "        return n\n",
    "    else:\n",
    "        return fibo(n-1)+fibo(n-2)\n",
    "        \n",
    "n=int(input(\"enter a number\"))\n",
    "if n<=0:\n",
    "    print(\"please enter a positive integer\")\n",
    "else:    \n",
    "    print(\"fibonacci sequence\")\n",
    "    for i in range(n):\n",
    "        print(fibo(i))\n",
    "\n",
    "    "
   ]
  },
  {
   "cell_type": "code",
   "execution_count": 8,
   "metadata": {},
   "outputs": [
    {
     "name": "stdout",
     "output_type": "stream",
     "text": [
      "enter a number2\n",
      "factorial of 2 is 2\n"
     ]
    }
   ],
   "source": [
    "#factorial of a number using recursion\n",
    "def fact(n):\n",
    "    if n==1:\n",
    "        return 1\n",
    "    else:\n",
    "        return n*fact(n-1)\n",
    "        \n",
    "n=int(input(\"enter a number\"))\n",
    "print(\"factorial of {} is {}\".format(n,fact(n)))\n"
   ]
  },
  {
   "cell_type": "code",
   "execution_count": 13,
   "metadata": {},
   "outputs": [
    {
     "name": "stdout",
     "output_type": "stream",
     "text": [
      "enter weight65\n",
      "enter height6\n",
      "the body mass 1.81\n"
     ]
    }
   ],
   "source": [
    "#calculation of body mass index\n",
    "weight=float(input(\"enter weight\"))\n",
    "height=float(input(\"enter height\"))\n",
    "body_mass=weight/(height**2)\n",
    "print(\"the body mass\",round(body_mass,2))\n"
   ]
  },
  {
   "cell_type": "code",
   "execution_count": 14,
   "metadata": {},
   "outputs": [
    {
     "name": "stdout",
     "output_type": "stream",
     "text": [
      "enter a number10\n",
      "natural logarith of 10 is 2.302585092994046\n"
     ]
    }
   ],
   "source": [
    "#natural logarithm of any number\n",
    "import math\n",
    "n=int(input(\"enter a number\"))\n",
    "log=math.log(n)\n",
    "print(\"natural logarithm of {} is {}\".format(n,log))"
   ]
  },
  {
   "cell_type": "code",
   "execution_count": 16,
   "metadata": {},
   "outputs": [
    {
     "name": "stdout",
     "output_type": "stream",
     "text": [
      "enter a number10\n",
      "cube sum of 10 is 3025\n"
     ]
    }
   ],
   "source": [
    "#program to calculate cube sum of n natural numbers\n",
    "n=int(input(\"enter a number\"))\n",
    "s=((n**2)*((n+1)**2))//4\n",
    "print(\"cube sum of {} is {}\".format(n,s))"
   ]
  },
  {
   "cell_type": "code",
   "execution_count": null,
   "metadata": {},
   "outputs": [],
   "source": []
  }
 ],
 "metadata": {
  "kernelspec": {
   "display_name": "Python 3",
   "language": "python",
   "name": "python3"
  },
  "language_info": {
   "codemirror_mode": {
    "name": "ipython",
    "version": 3
   },
   "file_extension": ".py",
   "mimetype": "text/x-python",
   "name": "python",
   "nbconvert_exporter": "python",
   "pygments_lexer": "ipython3",
   "version": "3.8.5"
  }
 },
 "nbformat": 4,
 "nbformat_minor": 4
}
