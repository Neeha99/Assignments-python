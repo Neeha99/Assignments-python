{
 "cells": [
  {
   "cell_type": "markdown",
   "metadata": {},
   "source": [
    "# Assignment 1"
   ]
  },
  {
   "cell_type": "code",
   "execution_count": 1,
   "metadata": {},
   "outputs": [
    {
     "name": "stdout",
     "output_type": "stream",
     "text": [
      "Hello Python\n"
     ]
    }
   ],
   "source": [
    "print(\"Hello Python\")"
   ]
  },
  {
   "cell_type": "code",
   "execution_count": 6,
   "metadata": {},
   "outputs": [
    {
     "name": "stdout",
     "output_type": "stream",
     "text": [
      "4\n",
      "8\n",
      "addition of two numbers: 12\n",
      "division of two numbers: 0\n"
     ]
    }
   ],
   "source": [
    "#arithmetic operation addition and division\n",
    "a=int(input())\n",
    "b=int(input())\n",
    "print(\"addition of two numbers:\",(a+b))\n",
    "try:\n",
    "    division=a//b\n",
    "except Exception as e:\n",
    "    print(\"division cannot be performed due to\", e,\"error\")\n",
    "else:    \n",
    "    print(\"division of two numbers:\",division)"
   ]
  },
  {
   "cell_type": "code",
   "execution_count": 3,
   "metadata": {},
   "outputs": [
    {
     "name": "stdout",
     "output_type": "stream",
     "text": [
      "4\n",
      "8\n",
      "area of a triangle: 16.0\n"
     ]
    }
   ],
   "source": [
    "#area of a triangle\n",
    "b=int(input())\n",
    "h=int(input())\n",
    "print(\"area of a triangle:\",(0.5*b*h))"
   ]
  },
  {
   "cell_type": "code",
   "execution_count": 4,
   "metadata": {},
   "outputs": [
    {
     "name": "stdout",
     "output_type": "stream",
     "text": [
      "2\n",
      "4\n",
      "before swap: 2 4\n",
      "after swap: 4 2\n"
     ]
    }
   ],
   "source": [
    "#swap two variables\n",
    "a=int(input())\n",
    "b=int(input())\n",
    "print(\"before swap:\",a,b)\n",
    "a,b=b,a\n",
    "print(\"after swap:\",a,b)\n"
   ]
  },
  {
   "cell_type": "code",
   "execution_count": 5,
   "metadata": {},
   "outputs": [
    {
     "name": "stdout",
     "output_type": "stream",
     "text": [
      "random number between 100 and 300: 243\n"
     ]
    }
   ],
   "source": [
    "#generating random number\n",
    "import random\n",
    "n=random.randint(100,300)\n",
    "print(\"random number between 100 and 300:\",n)"
   ]
  },
  {
   "cell_type": "code",
   "execution_count": null,
   "metadata": {},
   "outputs": [],
   "source": []
  },
  {
   "cell_type": "code",
   "execution_count": null,
   "metadata": {},
   "outputs": [],
   "source": []
  }
 ],
 "metadata": {
  "kernelspec": {
   "display_name": "Python 3",
   "language": "python",
   "name": "python3"
  },
  "language_info": {
   "codemirror_mode": {
    "name": "ipython",
    "version": 3
   },
   "file_extension": ".py",
   "mimetype": "text/x-python",
   "name": "python",
   "nbconvert_exporter": "python",
   "pygments_lexer": "ipython3",
   "version": "3.8.5"
  }
 },
 "nbformat": 4,
 "nbformat_minor": 4
}
