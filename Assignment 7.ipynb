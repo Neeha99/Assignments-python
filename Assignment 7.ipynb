{
 "cells": [
  {
   "cell_type": "code",
   "execution_count": 25,
   "metadata": {},
   "outputs": [
    {
     "name": "stdout",
     "output_type": "stream",
     "text": [
      "enter the length of an array5\n",
      "enter a value10\n",
      "enter a value20\n",
      "enter a value30\n",
      "enter a value40\n",
      "enter a value50\n",
      "sum of an array 150\n"
     ]
    }
   ],
   "source": [
    "#program to find sum of an array\n",
    "n=int(input(\"enter the length of an array\"))\n",
    "l=[]\n",
    "for i in range(n):\n",
    "    v=int(input(\"enter a value\"))\n",
    "    l.append(v)\n",
    "print(\"sum of an array\",sum(l))    "
   ]
  },
  {
   "cell_type": "code",
   "execution_count": 26,
   "metadata": {},
   "outputs": [
    {
     "name": "stdout",
     "output_type": "stream",
     "text": [
      "enter the length of an array5\n",
      "enter a value45\n",
      "enter a value60\n",
      "enter a value34\n",
      "enter a value32\n",
      "enter a value11\n",
      "largest element in an array 60\n"
     ]
    }
   ],
   "source": [
    "#program to find largest element in an array\n",
    "n=int(input(\"enter the length of an array\"))\n",
    "l=[]\n",
    "for i in range(n):\n",
    "    v=int(input(\"enter a value\"))\n",
    "    l.append(v)\n",
    "print(\"largest element in an array\",max(l))"
   ]
  },
  {
   "cell_type": "code",
   "execution_count": 2,
   "metadata": {},
   "outputs": [
    {
     "name": "stdout",
     "output_type": "stream",
     "text": [
      "enter the length of an array5\n",
      "enter a value1\n",
      "enter a value2\n",
      "enter a value3\n",
      "enter a value4\n",
      "enter a value5\n",
      "enter the rotation value3\n",
      "List after left rotate by 3 : [4, 5, 1, 2, 3] \n",
      "List after right rotate by 3 : [1, 2, 3, 4, 5] \n"
     ]
    }
   ],
   "source": [
    "#program to find array rotation\n",
    "n=int(input(\"enter the length of an array\"))\n",
    "l=[]\n",
    "for i in range(n):\n",
    "    v=int(input(\"enter a value\"))\n",
    "    l.append(v)\n",
    "r=int(input(\"enter the rotation value\"))    \n",
    "l=l[r:]+l[:r]    \n",
    "print (\"List after left rotate by {} : {} \" .format(r,l))\n",
    "l=l[-r:]+l[:-r]    \n",
    "print (\"List after right rotate by {} : {} \" .format(r,l))\n",
    "\n"
   ]
  },
  {
   "cell_type": "code",
   "execution_count": 5,
   "metadata": {},
   "outputs": [
    {
     "name": "stdout",
     "output_type": "stream",
     "text": [
      "enter the length of an array5\n",
      "enter the position to split2\n",
      "enter a value1\n",
      "enter a value2\n",
      "enter a value3\n",
      "enter a value4\n",
      "enter a value5\n",
      "after spliting [3, 4, 5, 1, 2]\n"
     ]
    }
   ],
   "source": [
    "#program to split the array and add to the first part\n",
    "n=int(input(\"enter the length of an array\"))\n",
    "p=int(input(\"enter the position to split\"))\n",
    "l=[]\n",
    "for i in range(n):\n",
    "    v=int(input(\"enter a value\"))\n",
    "    l.append(v)\n",
    "split=l[p:]+l[:p]\n",
    "print(\"after spliting\",split)"
   ]
  },
  {
   "cell_type": "code",
   "execution_count": 24,
   "metadata": {},
   "outputs": [
    {
     "name": "stdout",
     "output_type": "stream",
     "text": [
      "enter the length of an array5\n",
      "enter a value5\n",
      "enter a value4\n",
      "enter a value3\n",
      "enter a value2\n",
      "enter a value1\n",
      "monotonic\n"
     ]
    }
   ],
   "source": [
    "#program to find array is monotonic \n",
    "n=int(input(\"enter the length of an array\"))\n",
    "l=[]\n",
    "for i in range(n):\n",
    "    v=int(input(\"enter a value\"))\n",
    "    l.append(v) \n",
    "if (all(l[i]>=l[i+1] for i in range(n-1)) or all(l[i]<=l[i+1] for i in range(n-1))):\n",
    "    print(\"monotonic\")\n",
    "else:\n",
    "    print(\"not monotonic\")\n",
    "\n",
    "    "
   ]
  },
  {
   "cell_type": "markdown",
   "metadata": {},
   "source": []
  }
 ],
 "metadata": {
  "kernelspec": {
   "display_name": "Python 3",
   "language": "python",
   "name": "python3"
  },
  "language_info": {
   "codemirror_mode": {
    "name": "ipython",
    "version": 3
   },
   "file_extension": ".py",
   "mimetype": "text/x-python",
   "name": "python",
   "nbconvert_exporter": "python",
   "pygments_lexer": "ipython3",
   "version": "3.8.5"
  }
 },
 "nbformat": 4,
 "nbformat_minor": 4
}
